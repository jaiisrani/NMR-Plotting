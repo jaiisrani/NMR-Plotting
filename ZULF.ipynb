{
  "nbformat": 4,
  "nbformat_minor": 0,
  "metadata": {
    "colab": {
      "provenance": [],
      "collapsed_sections": [
        "SSrq7QKljOsA",
        "8RJ-jhRhQ7PI"
      ]
    },
    "kernelspec": {
      "name": "python3",
      "display_name": "Python 3"
    },
    "language_info": {
      "name": "python"
    },
    "widgets": {
      "application/vnd.jupyter.widget-state+json": {
        "f11bab10a9fe490f9bb3ca62e3e539b9": {
          "model_module": "@jupyter-widgets/controls",
          "model_name": "VBoxModel",
          "model_module_version": "1.5.0",
          "state": {
            "_dom_classes": [
              "widget-interact"
            ],
            "_model_module": "@jupyter-widgets/controls",
            "_model_module_version": "1.5.0",
            "_model_name": "VBoxModel",
            "_view_count": null,
            "_view_module": "@jupyter-widgets/controls",
            "_view_module_version": "1.5.0",
            "_view_name": "VBoxView",
            "box_style": "",
            "children": [
              "IPY_MODEL_69c04bd76a0e4212b1d1c2e36b13e36e",
              "IPY_MODEL_46d3ac363d684dfd9bf0421994d34e73",
              "IPY_MODEL_4244ff7d766242e5be8c40afd3a340ca"
            ],
            "layout": "IPY_MODEL_0dfcdc62b1b644cc98fb99340f1c2eb4"
          }
        },
        "69c04bd76a0e4212b1d1c2e36b13e36e": {
          "model_module": "@jupyter-widgets/controls",
          "model_name": "FloatSliderModel",
          "model_module_version": "1.5.0",
          "state": {
            "_dom_classes": [],
            "_model_module": "@jupyter-widgets/controls",
            "_model_module_version": "1.5.0",
            "_model_name": "FloatSliderModel",
            "_view_count": null,
            "_view_module": "@jupyter-widgets/controls",
            "_view_module_version": "1.5.0",
            "_view_name": "FloatSliderView",
            "continuous_update": true,
            "description": "Theta",
            "description_tooltip": null,
            "disabled": false,
            "layout": "IPY_MODEL_17b0c5607f034120b2a635803e627368",
            "max": 3.141592653589793,
            "min": 0,
            "orientation": "horizontal",
            "readout": true,
            "readout_format": ".2f",
            "step": 0.1,
            "style": "IPY_MODEL_0c8cb39e5ed445e8b08f5e5e8e775558",
            "value": 1.66
          }
        },
        "46d3ac363d684dfd9bf0421994d34e73": {
          "model_module": "@jupyter-widgets/controls",
          "model_name": "FloatSliderModel",
          "model_module_version": "1.5.0",
          "state": {
            "_dom_classes": [],
            "_model_module": "@jupyter-widgets/controls",
            "_model_module_version": "1.5.0",
            "_model_name": "FloatSliderModel",
            "_view_count": null,
            "_view_module": "@jupyter-widgets/controls",
            "_view_module_version": "1.5.0",
            "_view_name": "FloatSliderView",
            "continuous_update": true,
            "description": "b12",
            "description_tooltip": null,
            "disabled": false,
            "layout": "IPY_MODEL_93312481af5248648a95bb00dba89a63",
            "max": 20000,
            "min": 0,
            "orientation": "horizontal",
            "readout": true,
            "readout_format": ".2f",
            "step": 100,
            "style": "IPY_MODEL_f42263f5f88f4d649899d6eef3fd23c4",
            "value": 600
          }
        },
        "4244ff7d766242e5be8c40afd3a340ca": {
          "model_module": "@jupyter-widgets/output",
          "model_name": "OutputModel",
          "model_module_version": "1.0.0",
          "state": {
            "_dom_classes": [],
            "_model_module": "@jupyter-widgets/output",
            "_model_module_version": "1.0.0",
            "_model_name": "OutputModel",
            "_view_count": null,
            "_view_module": "@jupyter-widgets/output",
            "_view_module_version": "1.0.0",
            "_view_name": "OutputView",
            "layout": "IPY_MODEL_be9ec6faf82c4e10a23145e685832a8d",
            "msg_id": "",
            "outputs": [
              {
                "output_type": "stream",
                "name": "stderr",
                "text": [
                  "/usr/local/lib/python3.7/dist-packages/ipykernel_launcher.py:22: ComplexWarning: Casting complex values to real discards the imaginary part\n",
                  "/usr/local/lib/python3.7/dist-packages/matplotlib/cbook/__init__.py:1317: ComplexWarning: Casting complex values to real discards the imaginary part\n",
                  "  return np.asarray(x, float)\n"
                ]
              },
              {
                "output_type": "display_data",
                "data": {
                  "text/plain": "<Figure size 432x288 with 1 Axes>",
                  "image/png": "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\n"
                },
                "metadata": {
                  "needs_background": "light"
                }
              }
            ]
          }
        },
        "0dfcdc62b1b644cc98fb99340f1c2eb4": {
          "model_module": "@jupyter-widgets/base",
          "model_name": "LayoutModel",
          "model_module_version": "1.2.0",
          "state": {
            "_model_module": "@jupyter-widgets/base",
            "_model_module_version": "1.2.0",
            "_model_name": "LayoutModel",
            "_view_count": null,
            "_view_module": "@jupyter-widgets/base",
            "_view_module_version": "1.2.0",
            "_view_name": "LayoutView",
            "align_content": null,
            "align_items": null,
            "align_self": null,
            "border": null,
            "bottom": null,
            "display": null,
            "flex": null,
            "flex_flow": null,
            "grid_area": null,
            "grid_auto_columns": null,
            "grid_auto_flow": null,
            "grid_auto_rows": null,
            "grid_column": null,
            "grid_gap": null,
            "grid_row": null,
            "grid_template_areas": null,
            "grid_template_columns": null,
            "grid_template_rows": null,
            "height": null,
            "justify_content": null,
            "justify_items": null,
            "left": null,
            "margin": null,
            "max_height": null,
            "max_width": null,
            "min_height": null,
            "min_width": null,
            "object_fit": null,
            "object_position": null,
            "order": null,
            "overflow": null,
            "overflow_x": null,
            "overflow_y": null,
            "padding": null,
            "right": null,
            "top": null,
            "visibility": null,
            "width": null
          }
        },
        "17b0c5607f034120b2a635803e627368": {
          "model_module": "@jupyter-widgets/base",
          "model_name": "LayoutModel",
          "model_module_version": "1.2.0",
          "state": {
            "_model_module": "@jupyter-widgets/base",
            "_model_module_version": "1.2.0",
            "_model_name": "LayoutModel",
            "_view_count": null,
            "_view_module": "@jupyter-widgets/base",
            "_view_module_version": "1.2.0",
            "_view_name": "LayoutView",
            "align_content": null,
            "align_items": null,
            "align_self": null,
            "border": null,
            "bottom": null,
            "display": null,
            "flex": null,
            "flex_flow": null,
            "grid_area": null,
            "grid_auto_columns": null,
            "grid_auto_flow": null,
            "grid_auto_rows": null,
            "grid_column": null,
            "grid_gap": null,
            "grid_row": null,
            "grid_template_areas": null,
            "grid_template_columns": null,
            "grid_template_rows": null,
            "height": null,
            "justify_content": null,
            "justify_items": null,
            "left": null,
            "margin": null,
            "max_height": null,
            "max_width": null,
            "min_height": null,
            "min_width": null,
            "object_fit": null,
            "object_position": null,
            "order": null,
            "overflow": null,
            "overflow_x": null,
            "overflow_y": null,
            "padding": null,
            "right": null,
            "top": null,
            "visibility": null,
            "width": null
          }
        },
        "0c8cb39e5ed445e8b08f5e5e8e775558": {
          "model_module": "@jupyter-widgets/controls",
          "model_name": "SliderStyleModel",
          "model_module_version": "1.5.0",
          "state": {
            "_model_module": "@jupyter-widgets/controls",
            "_model_module_version": "1.5.0",
            "_model_name": "SliderStyleModel",
            "_view_count": null,
            "_view_module": "@jupyter-widgets/base",
            "_view_module_version": "1.2.0",
            "_view_name": "StyleView",
            "description_width": "",
            "handle_color": null
          }
        },
        "93312481af5248648a95bb00dba89a63": {
          "model_module": "@jupyter-widgets/base",
          "model_name": "LayoutModel",
          "model_module_version": "1.2.0",
          "state": {
            "_model_module": "@jupyter-widgets/base",
            "_model_module_version": "1.2.0",
            "_model_name": "LayoutModel",
            "_view_count": null,
            "_view_module": "@jupyter-widgets/base",
            "_view_module_version": "1.2.0",
            "_view_name": "LayoutView",
            "align_content": null,
            "align_items": null,
            "align_self": null,
            "border": null,
            "bottom": null,
            "display": null,
            "flex": null,
            "flex_flow": null,
            "grid_area": null,
            "grid_auto_columns": null,
            "grid_auto_flow": null,
            "grid_auto_rows": null,
            "grid_column": null,
            "grid_gap": null,
            "grid_row": null,
            "grid_template_areas": null,
            "grid_template_columns": null,
            "grid_template_rows": null,
            "height": null,
            "justify_content": null,
            "justify_items": null,
            "left": null,
            "margin": null,
            "max_height": null,
            "max_width": null,
            "min_height": null,
            "min_width": null,
            "object_fit": null,
            "object_position": null,
            "order": null,
            "overflow": null,
            "overflow_x": null,
            "overflow_y": null,
            "padding": null,
            "right": null,
            "top": null,
            "visibility": null,
            "width": null
          }
        },
        "f42263f5f88f4d649899d6eef3fd23c4": {
          "model_module": "@jupyter-widgets/controls",
          "model_name": "SliderStyleModel",
          "model_module_version": "1.5.0",
          "state": {
            "_model_module": "@jupyter-widgets/controls",
            "_model_module_version": "1.5.0",
            "_model_name": "SliderStyleModel",
            "_view_count": null,
            "_view_module": "@jupyter-widgets/base",
            "_view_module_version": "1.2.0",
            "_view_name": "StyleView",
            "description_width": "",
            "handle_color": null
          }
        },
        "be9ec6faf82c4e10a23145e685832a8d": {
          "model_module": "@jupyter-widgets/base",
          "model_name": "LayoutModel",
          "model_module_version": "1.2.0",
          "state": {
            "_model_module": "@jupyter-widgets/base",
            "_model_module_version": "1.2.0",
            "_model_name": "LayoutModel",
            "_view_count": null,
            "_view_module": "@jupyter-widgets/base",
            "_view_module_version": "1.2.0",
            "_view_name": "LayoutView",
            "align_content": null,
            "align_items": null,
            "align_self": null,
            "border": null,
            "bottom": null,
            "display": null,
            "flex": null,
            "flex_flow": null,
            "grid_area": null,
            "grid_auto_columns": null,
            "grid_auto_flow": null,
            "grid_auto_rows": null,
            "grid_column": null,
            "grid_gap": null,
            "grid_row": null,
            "grid_template_areas": null,
            "grid_template_columns": null,
            "grid_template_rows": null,
            "height": null,
            "justify_content": null,
            "justify_items": null,
            "left": null,
            "margin": null,
            "max_height": null,
            "max_width": null,
            "min_height": null,
            "min_width": null,
            "object_fit": null,
            "object_position": null,
            "order": null,
            "overflow": null,
            "overflow_x": null,
            "overflow_y": null,
            "padding": null,
            "right": null,
            "top": null,
            "visibility": null,
            "width": null
          }
        }
      }
    }
  },
  "cells": [
    {
      "cell_type": "markdown",
      "source": [
        "# NMR Spectra using Python"
      ],
      "metadata": {
        "id": "1RW3eoUE67t5"
      }
    },
    {
      "cell_type": "code",
      "source": [
        "import numpy as np\n",
        "\n",
        "# Make Pauli matrices\n",
        "sigmax = np.array([[0, 1./2], [1./2,0]])\n",
        "sigmay = np.array([[0, (-1./2)*1j], [(1./2)*1j,0]])\n",
        "sigmaz = np.array([[1./2, 0], [0,-1./2]])\n",
        "unit = np.eye(2)\n",
        "print(\"Shape of all these arrays are \" + str(sigmax.shape) + \", \" + str(sigmay.shape) \n",
        "+ \", \" + str(sigmaz.shape) + \", \" + str(unit.shape))"
      ],
      "metadata": {
        "id": "vZKJCaCck08r",
        "colab": {
          "base_uri": "https://localhost:8080/"
        },
        "outputId": "0884a1da-b5ea-42c4-d61e-0db337fa035e"
      },
      "execution_count": null,
      "outputs": [
        {
          "output_type": "stream",
          "name": "stdout",
          "text": [
            "Shape of all these arrays are (2, 2), (2, 2), (2, 2), (2, 2)\n"
          ]
        }
      ]
    },
    {
      "cell_type": "code",
      "source": [
        "# Make 2-spin operators ## Ls correspond to first spin, Ss correspond to second spin\n",
        "Lx = np.kron(sigmax, unit); Sx = np.kron(unit, sigmax) \n",
        "Ly = np.kron(sigmay, unit); Sy = np.kron(unit, sigmay)\n",
        "Lz = np.kron(sigmaz, unit); Sz = np.kron(unit, sigmaz)\n",
        "print(\"Spin operators are:\")\n",
        "print(\"Lx = \")\n",
        "print(str(Lx))\n",
        "print(\"Ly = \")\n",
        "print(str(Ly))\n",
        "print(\"Lz = \")\n",
        "print(str(Lz))\n",
        "print(\"Sx = \")\n",
        "print(str(Sx))\n",
        "print(\"Sy = \")\n",
        "print(str(Sy))\n",
        "print(\"Sz = \")\n",
        "print(str(Sz))"
      ],
      "metadata": {
        "id": "JJgNN-owk05R",
        "colab": {
          "base_uri": "https://localhost:8080/"
        },
        "outputId": "4b346d75-7e82-4ff4-e1c8-0349c633edcd"
      },
      "execution_count": null,
      "outputs": [
        {
          "output_type": "stream",
          "name": "stdout",
          "text": [
            "Spin operators are:\n",
            "Lx = \n",
            "[[0.  0.  0.5 0. ]\n",
            " [0.  0.  0.  0.5]\n",
            " [0.5 0.  0.  0. ]\n",
            " [0.  0.5 0.  0. ]]\n",
            "Ly = \n",
            "[[0.+0.j  0.+0.j  0.-0.5j 0.-0.j ]\n",
            " [0.+0.j  0.+0.j  0.-0.j  0.-0.5j]\n",
            " [0.+0.5j 0.+0.j  0.+0.j  0.+0.j ]\n",
            " [0.+0.j  0.+0.5j 0.+0.j  0.+0.j ]]\n",
            "Lz = \n",
            "[[ 0.5  0.   0.   0. ]\n",
            " [ 0.   0.5  0.   0. ]\n",
            " [ 0.   0.  -0.5 -0. ]\n",
            " [ 0.   0.  -0.  -0.5]]\n",
            "Sx = \n",
            "[[0.  0.5 0.  0. ]\n",
            " [0.5 0.  0.  0. ]\n",
            " [0.  0.  0.  0.5]\n",
            " [0.  0.  0.5 0. ]]\n",
            "Sy = \n",
            "[[0.+0.j  0.-0.5j 0.+0.j  0.-0.j ]\n",
            " [0.+0.5j 0.+0.j  0.+0.j  0.+0.j ]\n",
            " [0.+0.j  0.-0.j  0.+0.j  0.-0.5j]\n",
            " [0.+0.j  0.+0.j  0.+0.5j 0.+0.j ]]\n",
            "Sz = \n",
            "[[ 0.5  0.   0.   0. ]\n",
            " [ 0.  -0.5  0.  -0. ]\n",
            " [ 0.   0.   0.5  0. ]\n",
            " [ 0.  -0.   0.  -0.5]]\n"
          ]
        }
      ]
    },
    {
      "cell_type": "code",
      "source": [
        "# Set Hamiltonian parameters\n",
        "OmegaL = 2 * np.pi * 400 # Offset frequency of first spin in Hz\n",
        "##OmegaS = 2 * np.pi * 700 # Offset frequency of second spin in Hz\n",
        "OmegaS = 2 * np.pi * 400 # Offset frequency of second spin in Hz\n",
        "##J = np.pi * 50 # J-coupling constant in Hz. Historically, the experimentally reported\n",
        "              # J-coupling value is half the gap between full peaks and not the full gap\n",
        "J = 0 # J-coupling constant"
      ],
      "metadata": {
        "id": "LO1aK6s5k009"
      },
      "execution_count": null,
      "outputs": []
    },
    {
      "cell_type": "markdown",
      "source": [
        "### Without dipole interactions (liquid NMR)"
      ],
      "metadata": {
        "id": "5Uw4liCYNKP1"
      }
    },
    {
      "cell_type": "code",
      "source": [
        "# Write the Hamiltonian\n",
        "H = OmegaL * Lz + OmegaS * Sz + J * ( np.matmul(Lx, Sx) + np.matmul(Ly, Sy) + np.matmul(Lz, Sz) )\n",
        "print(\"Hamiltonian is \")\n",
        "print(str(H))\n",
        "print(\"Order of Hamiltonian is \" + str(H.shape))"
      ],
      "metadata": {
        "id": "IJ5mZAkkk0oe",
        "colab": {
          "base_uri": "https://localhost:8080/"
        },
        "outputId": "62bbf7e0-55f2-4344-d14c-283509031b10"
      },
      "execution_count": null,
      "outputs": [
        {
          "output_type": "stream",
          "name": "stdout",
          "text": [
            "Hamiltonian is \n",
            "[[ 1295.90696961+0.j     0.        +0.j     0.        +0.j\n",
            "      0.        +0.j]\n",
            " [    0.        +0.j   -39.26990817+0.j    78.53981634+0.j\n",
            "      0.        +0.j]\n",
            " [    0.        +0.j    78.53981634+0.j   -39.26990817+0.j\n",
            "      0.        +0.j]\n",
            " [    0.        +0.j     0.        +0.j     0.        +0.j\n",
            "  -1217.36715327+0.j]]\n",
            "Order of Hamiltonian is (4, 4)\n"
          ]
        }
      ]
    },
    {
      "cell_type": "code",
      "source": [
        "# Set initial state\n",
        "rho0 = Lz + Sz\n",
        "# Set detection state i.e. the state after rf pulse is just over\n",
        "rhod = (Lx + Sx) + (Ly + Sy)*1j\n",
        "print(\"Initial state is \")\n",
        "print(rho0)\n",
        "print(\"State after rf pulse is over is \")\n",
        "print(rhod)"
      ],
      "metadata": {
        "id": "9uDyPF51k10m",
        "colab": {
          "base_uri": "https://localhost:8080/"
        },
        "outputId": "3b7a6243-84f7-451d-a59f-37bdc229013b"
      },
      "execution_count": null,
      "outputs": [
        {
          "output_type": "stream",
          "name": "stdout",
          "text": [
            "Initial state is \n",
            "[[ 1.  0.  0.  0.]\n",
            " [ 0.  0.  0.  0.]\n",
            " [ 0.  0.  0.  0.]\n",
            " [ 0.  0.  0. -1.]]\n",
            "State after rf pulse is over is \n",
            "[[0.+0.j 1.+0.j 1.+0.j 0.+0.j]\n",
            " [0.+0.j 0.+0.j 0.+0.j 1.+0.j]\n",
            " [0.+0.j 0.+0.j 0.+0.j 1.+0.j]\n",
            " [0.+0.j 0.+0.j 0.+0.j 0.+0.j]]\n"
          ]
        }
      ]
    },
    {
      "cell_type": "code",
      "source": [
        "# Construct propagators\n",
        "import scipy.linalg\n",
        "pulse_prop = scipy.linalg.expm(-1j * (Ly + Sy) * np.pi/2) # Since it is a pi/2 pulse that causes rotation about y axis\n",
        "time_step = 1. / np.linalg.norm(H, 'fro')\n",
        "evolution_prop = scipy.linalg.expm(-1j * H * time_step)\n",
        "print(\"Pulse propagator = \")\n",
        "print(pulse_prop)\n",
        "print(\"Evolution propagator = \")\n",
        "print(evolution_prop)\n",
        "print(\"time_step is \" + str(time_step))"
      ],
      "metadata": {
        "id": "HmAT6HBC-Kdd",
        "colab": {
          "base_uri": "https://localhost:8080/"
        },
        "outputId": "14bffde9-7579-43d5-dd82-bd708ced3514"
      },
      "execution_count": null,
      "outputs": [
        {
          "output_type": "stream",
          "name": "stdout",
          "text": [
            "Pulse propagator = \n",
            "[[ 0.5+0.j -0.5+0.j -0.5+0.j  0.5+0.j]\n",
            " [ 0.5+0.j  0.5+0.j -0.5+0.j -0.5+0.j]\n",
            " [ 0.5+0.j -0.5+0.j  0.5+0.j -0.5+0.j]\n",
            " [ 0.5+0.j  0.5+0.j  0.5+0.j  0.5+0.j]]\n",
            "Evolution propagator = \n",
            "[[7.47120562e-01-0.66468855j 0.00000000e+00+0.j\n",
            "  0.00000000e+00+0.j         0.00000000e+00+0.j        ]\n",
            " [0.00000000e+00+0.j         9.98786810e-01+0.02200946j\n",
            "  9.70481096e-04-0.04404031j 0.00000000e+00+0.j        ]\n",
            " [0.00000000e+00+0.j         9.70481096e-04-0.04404031j\n",
            "  9.98786810e-01+0.02200946j 0.00000000e+00+0.j        ]\n",
            " [0.00000000e+00+0.j         0.00000000e+00+0.j\n",
            "  0.00000000e+00+0.j         7.75675518e-01+0.63113191j]]\n",
            "time_step is 0.0005610563785037028\n"
          ]
        }
      ]
    },
    {
      "cell_type": "code",
      "source": [
        "# Now the pulse happens for a short time interval because of which wavefunction rho changes\n",
        "rho = np.matmul( np.matmul(pulse_prop , rho0) , np.matrix.getH(pulse_prop) )\n",
        "\n",
        "# Now free induction decay happens since the pulse is over\n",
        "nsteps = 400\n",
        "\n",
        "fid = np.zeros((nsteps,))\n",
        "for n in range(nsteps):\n",
        "  fid[n] = np.matrix.trace(np.matmul( np.matrix.getH(rhod) , rho )) # A measure oh how close our state is to detection state\n",
        "  rho = np.matmul( np.matmul( evolution_prop , rho) , np.matrix.getH(evolution_prop)) # We are letting the spins\n",
        "                                                                                  # relax after rf pulse is over\n",
        "# In real life Apozidation happens because as time progresses, our state gets further \n",
        "# from detection state and is more stable. ## HOW DO WE DO APODIZATION? ##\n",
        "# So we create a window function and multiply it to the fid\n",
        "for n in range(nsteps):\n",
        "  fid[n] *= np.exp(-2.*(n/nsteps))\n",
        "\n",
        "# Now plot the fid\n",
        "\n",
        "import matplotlib.pyplot as plt\n",
        "plt.figure()\n",
        "plt.plot(np.arange(nsteps) * time_step, fid, linewidth=0.25) # FID == Real part of FID\n",
        "plt.title(\"FID\")\n",
        "plt.xlabel(\"time\")\n",
        "plt.ylabel(\"trace(rhod' * rho)\")\n",
        "plt.show()\n",
        "plt.figure()\n",
        "plt.plot(np.arange(nsteps) * time_step, fid.imag, label=\"Imaginary part of FID\")\n",
        "plt.title(\"Imaginary part of FID\")\n",
        "plt.show()"
      ],
      "metadata": {
        "id": "ZNfZLBdZ-KXk",
        "colab": {
          "base_uri": "https://localhost:8080/",
          "height": 590
        },
        "outputId": "aa71dee9-954d-47fe-b5b4-0085cef83082"
      },
      "execution_count": null,
      "outputs": [
        {
          "output_type": "stream",
          "name": "stderr",
          "text": [
            "/usr/local/lib/python3.7/dist-packages/ipykernel_launcher.py:9: ComplexWarning: Casting complex values to real discards the imaginary part\n",
            "  if __name__ == '__main__':\n"
          ]
        },
        {
          "output_type": "display_data",
          "data": {
            "text/plain": [
              "<Figure size 432x288 with 1 Axes>"
            ],
            "image/png": "[encoded data removed]"
          },
          "metadata": {
            "needs_background": "light"
          }
        },
        {
          "output_type": "display_data",
          "data": {
            "text/plain": [
              "<Figure size 432x288 with 1 Axes>"
            ],
            "image/png": "[encoded data removed]"
          },
          "metadata": {
            "needs_background": "light"
          }
        }
      ]
    },
    {
      "cell_type": "code",
      "source": [
        "from scipy.fft import fft, fftfreq\n",
        "# Performing Fourier transform of the FID signal.\n",
        "fid_FT = fft(fid, nsteps)[ : nsteps//2] # number of points in fid_FT = number of points in fid = nsteps\n",
        "fid_freq = fftfreq(nsteps, time_step)[ : nsteps//2]\n",
        "NMRsignal = ( fid_FT * np.conj(fid_FT) / nsteps )\n",
        "\n",
        "plt.figure()\n",
        "plt.plot(fid_freq, 2./nsteps * NMRsignal\n",
        "          , linewidth=1) ### Have to figure out how to make x axis meaningful ###\n",
        "plt.title(\"NMR signal\")\n",
        "#plt.show()\n",
        "#plt.xlim(450, 550) # To zoom into the plot\n",
        "\n",
        "plt.show()\n",
        "\n",
        "##print(\"Array of NMRsignal has shape \" + str(NMRsignal.shape))"
      ],
      "metadata": {
        "colab": {
          "base_uri": "https://localhost:8080/",
          "height": 332
        },
        "id": "cLHlfs8IHcOt",
        "outputId": "7e1e8346-65b0-4a72-f904-8e8b68fa6b67"
      },
      "execution_count": null,
      "outputs": [
        {
          "output_type": "stream",
          "name": "stderr",
          "text": [
            "/usr/local/lib/python3.7/dist-packages/matplotlib/cbook/__init__.py:1317: ComplexWarning: Casting complex values to real discards the imaginary part\n",
            "  return np.asarray(x, float)\n"
          ]
        },
        {
          "output_type": "display_data",
          "data": {
            "text/plain": [
              "<Figure size 432x288 with 1 Axes>"
            ],
            "image/png": "[encoded data removed]"
          },
          "metadata": {
            "needs_background": "light"
          }
        }
      ]
    },
    {
      "cell_type": "markdown",
      "source": [
        "### With dipole interactions, in anisotropic solids (so Hamiltonian depends on $\\Theta$)"
      ],
      "metadata": {
        "id": "8RJ-jhRhQ7PI"
      }
    },
    {
      "cell_type": "code",
      "source": [
        "# Write the Hamiltonian\n",
        "import numpy as np\n",
        "def Hamiltonian(angle, OmegaL, OmegaS, J, b12): # angle is assumed to be in radians by default. We will substitute 'theta' for 'angle'//\n",
        "  return (OmegaL * Lz + OmegaS * Sz + J * ( np.matmul(Lx, Sx) + np.matmul(Ly, Sy) + np.matmul(Lz, Sz) ) \n",
        "    + b12*( 3*np.matmul(Lz, Sz) -  np.matmul(Lx, Sx) -  np.matmul(Ly, Sy) -  np.matmul(Lz, Sz) )*(3*(np.cos(angle))**2 - 1)/2. )"
      ],
      "metadata": {
        "id": "71KTgrTHRgzO"
      },
      "execution_count": null,
      "outputs": []
    },
    {
      "cell_type": "code",
      "source": [
        "# Set initial state\n",
        "rho0 = Lz + Sz\n",
        "# Set final state\n",
        "rhof = (Lx + Sx) + (Ly + Sy)*1j\n",
        "print(\"Initial state is \")\n",
        "print(rho0)\n",
        "print(\"State wanted finally is \")\n",
        "print(rhof)"
      ],
      "metadata": {
        "id": "8KNuCNyvSSD5",
        "colab": {
          "base_uri": "https://localhost:8080/"
        },
        "outputId": "cb3236aa-70db-46b6-96c9-a7a627ab49df"
      },
      "execution_count": null,
      "outputs": [
        {
          "output_type": "stream",
          "name": "stdout",
          "text": [
            "Initial state is \n",
            "[[ 1.  0.  0.  0.]\n",
            " [ 0.  0.  0.  0.]\n",
            " [ 0.  0.  0.  0.]\n",
            " [ 0.  0.  0. -1.]]\n",
            "State wanted finally is \n",
            "[[0.+0.j 1.+0.j 1.+0.j 0.+0.j]\n",
            " [0.+0.j 0.+0.j 0.+0.j 1.+0.j]\n",
            " [0.+0.j 0.+0.j 0.+0.j 1.+0.j]\n",
            " [0.+0.j 0.+0.j 0.+0.j 0.+0.j]]\n"
          ]
        }
      ]
    },
    {
      "cell_type": "code",
      "source": [
        "import ipywidgets as wig\n",
        "from IPython.display import display\n",
        "import scipy.linalg\n",
        "import matplotlib.pyplot as plt\n",
        "from scipy.fft import fft, fftfreq, fftshift\n",
        "\n",
        "def update(theta, b12_): # Additional Hamiltonian parameter b12_\n",
        "  H = Hamiltonian(angle=theta, OmegaL=OmegaL, OmegaS=OmegaS, J=J, b12=b12_)\n",
        "\n",
        "  # Construct propagators\n",
        "  pulse_prop = scipy.linalg.expm(-1j * (Ly + Sy) * np.pi/2) # Since it is a pi/2 pulse that causes rotation about y axis\n",
        "  time_step = 1. / np.linalg.norm(H, 'fro')\n",
        "  evolution_prop = scipy.linalg.expm(-1j * H * time_step)\n",
        "\n",
        "  # Now the pulse happens for a short time interval because of which wavefunction rho changes\n",
        "  rho = np.matmul( np.matmul(pulse_prop , rho0) , np.matrix.getH(pulse_prop) )\n",
        "\n",
        "  # Now free induction decay happens since the pulse is over\n",
        "  nsteps = 400\n",
        "  fid = np.zeros((nsteps,))\n",
        "  for n in range(nsteps):\n",
        "    fid[n] = np.matrix.trace(np.matmul( np.matrix.getH(rhof) , rho ))\n",
        "    rho = np.matmul( np.matmul( evolution_prop , rho) , np.matrix.getH(evolution_prop))\n",
        "\n",
        "  # In real life Apozidation happens instead of the pulse stopping abruptly.\n",
        "  # So we create a window function and multiply it to the fid\n",
        "  for n in range(nsteps):\n",
        "    fid[n] *= np.exp(-2.*(n/nsteps))\n",
        "\n",
        "  # Now plot the fid (uncomment the double hashed lines below to do this)\n",
        "  ##import matplotlib.pyplot as plt\n",
        "  ##plt.figure()\n",
        "  ##plt.plot(np.arange(nsteps), fid, linewidth=0.5) # FID == Real part of FID\n",
        "  ##plt.title(\"FID\")\n",
        "  ##plt.show()\n",
        "  ##plt.figure()\n",
        "  ##plt.plot(np.arange(nsteps), fid.imag, label=\"Imaginary part of FID\")\n",
        "  ##plt.title(\"Imaginary part of FID\")\n",
        "  ##plt.show()\n",
        "\n",
        "  # Performing Fourier transform of the FID signal.\n",
        "  fid_FT = fft(fid, nsteps)[ : nsteps//2] # number of points in fid_FT = number of points in fid = nsteps\n",
        "  fid_freq = fftfreq(nsteps, time_step)[ : nsteps//2]\n",
        "  NMRsignal = ( fid_FT * np.conj(fid_FT) / nsteps )\n",
        "  plt.figure()\n",
        "  plt.plot(fid_freq, 2./nsteps * NMRsignal\n",
        "            , linewidth=1) ### Have to figure out how to make x axis meaningful ###\n",
        "  plt.title(\"NMR signal\")\n",
        "  #plt.xlim(100, 300) # To zoom into the plot\n",
        "  plt.show()\n",
        "  #print(\"Array of NMRsignal has shape \" + str(NMRsignal.shape))\n",
        "\n",
        "thetaa = wig.FloatSlider(description = \"Theta\", value = 1.66, min = 0, max = np.pi, step = 0.1)\n",
        "b12__ = wig.FloatSlider(description=\"b12\", value = 1000., min = 0., max = 20000., step=100)\n",
        "wig.interact(update, theta=thetaa, b12_=b12__)\n",
        "plt.show()"
      ],
      "metadata": {
        "id": "mLLdweGVHbRw",
        "colab": {
          "base_uri": "https://localhost:8080/",
          "height": 410,
          "referenced_widgets": [
            "f11bab10a9fe490f9bb3ca62e3e539b9",
            "69c04bd76a0e4212b1d1c2e36b13e36e",
            "46d3ac363d684dfd9bf0421994d34e73",
            "4244ff7d766242e5be8c40afd3a340ca",
            "0dfcdc62b1b644cc98fb99340f1c2eb4",
            "17b0c5607f034120b2a635803e627368",
            "0c8cb39e5ed445e8b08f5e5e8e775558",
            "93312481af5248648a95bb00dba89a63",
            "f42263f5f88f4d649899d6eef3fd23c4",
            "be9ec6faf82c4e10a23145e685832a8d"
          ]
        },
        "outputId": "4944316b-0240-40cf-8274-686e5995cd26"
      },
      "execution_count": null,
      "outputs": [
        {
          "output_type": "display_data",
          "data": {
            "text/plain": [
              "interactive(children=(FloatSlider(value=1.66, description='Theta', max=3.141592653589793), FloatSlider(value=1…"
            ],
            "application/vnd.jupyter.widget-view+json": {
              "version_major": 2,
              "version_minor": 0,
              "model_id": "f11bab10a9fe490f9bb3ca62e3e539b9"
            }
          },
          "metadata": {}
        }
      ]
    },
    {
      "cell_type": "markdown",
      "source": [
        "### Sum of all NMR plots over $\\Theta$ for powder"
      ],
      "metadata": {
        "id": "lB8G8zTRVmwb"
      }
    },
    {
      "cell_type": "code",
      "source": [
        "# Write the Hamiltonian\n",
        "import numpy as np\n",
        "def Hamiltonian(angle, OmegaL, OmegaS, J, d12): # angle is assumed to be in radians by default. We will substitute 'theta' for 'angle'\n",
        "                                                # d12 is in Hertz\n",
        "  return (OmegaL * Lz + OmegaS * Sz + J * ( np.matmul(Lx, Sx) + np.matmul(Ly, Sy) + np.matmul(Lz, Sz) ) \n",
        "    + d12*( 3*np.matmul(Lz, Sz) -  np.matmul(Lx, Sx) -  np.matmul(Ly, Sy) -  np.matmul(Lz, Sz) )*(3*(np.cos(angle))**2 - 1)/2. )"
      ],
      "metadata": {
        "id": "Vr8iQRH8xxGK"
      },
      "execution_count": null,
      "outputs": []
    },
    {
      "cell_type": "code",
      "source": [
        "# Set initial state\n",
        "rho0 = Lz + Sz\n",
        "# Set detection state i.e. the state after rf pulse is just over\n",
        "rhod = (Lx + Sx) + (Ly + Sy)*1j\n",
        "print(\"Initial state is \")\n",
        "print(rho0)\n",
        "print(\"State after rf pulse is over is \")\n",
        "print(rhod)"
      ],
      "metadata": {
        "colab": {
          "base_uri": "https://localhost:8080/"
        },
        "id": "oqVe5Y9xxx7A",
        "outputId": "147d8cd0-6ed0-460b-ca36-b430abb9e1d0"
      },
      "execution_count": null,
      "outputs": [
        {
          "output_type": "stream",
          "name": "stdout",
          "text": [
            "Initial state is \n",
            "[[ 1.  0.  0.  0.]\n",
            " [ 0.  0.  0.  0.]\n",
            " [ 0.  0.  0.  0.]\n",
            " [ 0.  0.  0. -1.]]\n",
            "State after rf pulse is over is \n",
            "[[0.+0.j 1.+0.j 1.+0.j 0.+0.j]\n",
            " [0.+0.j 0.+0.j 0.+0.j 1.+0.j]\n",
            " [0.+0.j 0.+0.j 0.+0.j 1.+0.j]\n",
            " [0.+0.j 0.+0.j 0.+0.j 0.+0.j]]\n"
          ]
        }
      ]
    },
    {
      "cell_type": "code",
      "source": [
        "# one needs to set the value of d12 below"
      ],
      "metadata": {
        "id": "PRa1WcUviO32"
      },
      "execution_count": null,
      "outputs": []
    },
    {
      "cell_type": "code",
      "source": [
        "import scipy.linalg\n",
        "import matplotlib.pyplot as plt\n",
        "from scipy.fft import fft, fftfreq, fftshift\n",
        "\n",
        "dtheta = 0.005\n",
        "NMRsignal = 0.0 # This variable will finally store the array of NMR signal\n",
        "\n",
        "for theta in list(np.linspace(0, np.pi, int(np.pi/dtheta))):\n",
        "  H = Hamiltonian(angle=theta, OmegaL=OmegaL, OmegaS=OmegaS, J=J, d12=300.00)\n",
        "  \n",
        "  # Construct propagators\n",
        "  pulse_prop = scipy.linalg.expm(-1j * (Ly + Sy) * np.pi/2) # Since it is a pi/2 pulse that causes rotation about y axis\n",
        "  time_step = 1. / np.linalg.norm(H, 'fro')\n",
        "  evolution_prop = scipy.linalg.expm(-1j * H * time_step)\n",
        "\n",
        "  # Now the pulse happens for a short time interval because of which wavefunction rho changes\n",
        "  rho = np.matmul( np.matmul(pulse_prop , rho0) , np.matrix.getH(pulse_prop) )\n",
        "\n",
        "  # Now free induction decay happens since the pulse is over\n",
        "  nsteps = 4000\n",
        "  fid = np.zeros((nsteps,))\n",
        "  for n in range(nsteps):\n",
        "    fid[n] = np.matrix.trace(np.matmul( np.matrix.getH(rhod) , rho )) # A measure of how close our state is to detection state\n",
        "    rho = np.matmul( np.matmul( evolution_prop , rho) , np.matrix.getH(evolution_prop)) # We are letting the spins\n",
        "                                                                                    # relax after rf pulse is over\n",
        "\n",
        "  # In real life Apozidation happens because as time progresses, our state gets further \n",
        "  # from detection state and is more stable. ## HOW DO WE DO APODIZATION? ##\n",
        "  # So we create a window function and multiply it to the fid\n",
        "  for n in range(nsteps):\n",
        "    fid[n] *= np.exp(-2.*(n/nsteps))\n",
        "\n",
        "  # Performing Fourier transform of the FID signal.\n",
        "  fid_FT = fft(fid, nsteps)[ : nsteps//2] # number of points in fid_FT = number of points in fid = nsteps\n",
        "  fid_freq = fftfreq(nsteps, time_step)[ : nsteps//2]\n",
        "  NMRsignal += ( fid_FT * np.conj(fid_FT) / nsteps ) * np.sin(theta) # we include the sin because theta is in spherical coords"
      ],
      "metadata": {
        "colab": {
          "base_uri": "https://localhost:8080/"
        },
        "id": "Lfiq9FUUVrUb",
        "outputId": "e33fb0e3-f3c8-41eb-dba6-faeabf02bc3a"
      },
      "execution_count": null,
      "outputs": [
        {
          "output_type": "stream",
          "name": "stderr",
          "text": [
            "/usr/local/lib/python3.7/dist-packages/ipykernel_launcher.py:23: ComplexWarning: Casting complex values to real discards the imaginary part\n"
          ]
        }
      ]
    },
    {
      "cell_type": "code",
      "source": [
        "plt.figure()\n",
        "plt.plot(fid_freq, 2./nsteps * NMRsignal\n",
        "          , linewidth=1)\n",
        "#plt.scatter(fid_freq, 2./nsteps * NMRsignal, s=5)\n",
        "plt.title(\"NMR signal\")\n",
        "plt.xlim(300, 500) # To zoom into the plot\n",
        "plt.show()\n",
        "#print(\"Array of NMRsignal has shape \" + str(NMRsignal.shape))"
      ],
      "metadata": {
        "colab": {
          "base_uri": "https://localhost:8080/",
          "height": 332
        },
        "id": "Ce9DSLyLLUsP",
        "outputId": "3da85e38-a94b-46e9-fb4e-306cf46d3531"
      },
      "execution_count": null,
      "outputs": [
        {
          "output_type": "stream",
          "name": "stderr",
          "text": [
            "/usr/local/lib/python3.7/dist-packages/matplotlib/cbook/__init__.py:1317: ComplexWarning: Casting complex values to real discards the imaginary part\n",
            "  return np.asarray(x, float)\n"
          ]
        },
        {
          "output_type": "display_data",
          "data": {
            "text/plain": [
              "<Figure size 432x288 with 1 Axes>"
            ],
            "image/png": "[encoded data removed]"
          },
          "metadata": {
            "needs_background": "light"
          }
        }
      ]
    },
    {
      "cell_type": "code",
      "source": [
        "# ignore the below cell"
      ],
      "metadata": {
        "id": "rQQPQUveLUaQ"
      },
      "execution_count": null,
      "outputs": []
    },
    {
      "cell_type": "code",
      "source": [],
      "metadata": {
        "id": "gCllXAp0GfKV"
      },
      "execution_count": null,
      "outputs": []
    }
  ]
}